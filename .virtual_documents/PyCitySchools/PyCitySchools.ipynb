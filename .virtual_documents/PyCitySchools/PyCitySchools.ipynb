


# Dependencies and Setup
import pandas as pd
from pathlib import Path

# File to Load
school_data_to_load = Path("../Resources/schools_complete.csv")
student_data_to_load = Path("../Resources/students_complete.csv")

# Read School and Student Data File and store into Pandas DataFrames
school_data = pd.read_csv(school_data_to_load)
student_data = pd.read_csv(student_data_to_load)

# Combine the data into a single dataset.  
school_data_complete = pd.merge(
    student_data, school_data, how="left", on=["school_name", "school_name"])

# Clean up the column headings
complete_df = school_data_complete.rename(columns={
    "student_name": "Student Name",
    "gender": "Gender",
    "year": "Year",
    "school_name": "School Name",
    "reading_score": "Reading Score",
    "maths_score": "Maths Score",
    "type": "School Type",
    "size": "School Size",
    "budget": "School Budget"})

# Rearrange columns for readability
complete_df = complete_df[[
    "Student ID",
    "Student Name",
    "Gender",
    "Year",
    "Reading Score",
    "Maths Score",
    "School ID",
    "School Name",
    "School Type",
    "School Size",
    "School Budget"]]

complete_df.head()





# Calculate the total number of schools
total_schools = len(complete_df["School ID"].unique())

# Calculate the total number of students
total_students = len(complete_df["Student ID"].unique())

# Calculate the total budget
total_budget = complete_df["School Budget"].unique().sum()

# Calculate the average maths score
average_maths = complete_df["Maths Score"].mean()

# Calculate the average reading score
average_reading = complete_df["Reading Score"].mean()

# Calculate the percentage of students with a passing maths score (>= 50)
passing_score = 50
num_passers_math = complete_df.loc[
    complete_df["Maths Score"] >= passing_score, "Maths Score"].count()
percent_passed_maths = 100 * (num_passers_math / total_students)

# Calculate the percentage of students with a passing reading score (>= 50)
num_passers_read = complete_df.loc[
    complete_df["Reading Score"] >= passing_score, "Reading Score"].count()
percent_passed_reading = 100 * (num_passers_read / total_students)

# Calculate the percentage of students who passed maths AND reading
pass_math = complete_df["Maths Score"] >= passing_score
pass_read = complete_df["Reading Score"] >= passing_score
num_passers = complete_df.loc[pass_math & pass_read, "Student ID"].count()
percent_passers = 100 * (num_passers / total_students)

# Create a dataframe called area_summary
area_summary_data = [{
    "Total Schools": total_schools,
    "Total Students": total_students,
    "Total Budget": total_budget,
    "Average Maths Score": average_maths,
    "Average Reading Score": average_reading,
    "% Passing Maths": percent_passed_maths,
    "% Passing Reading": percent_passed_reading,
    "% Overall Passing": percent_passers}]
area_summary = pd.DataFrame(area_summary_data)

# Format dataframe with correct units
area_summary["Total Students"] = area_summary["Total Students"].map("{0:,.0f}".format)
area_summary["Total Budget"] = area_summary["Total Budget"].map("${0:,.2f}".format)

# Display the results
area_summary








schools_list = complete_df["School Name"].unique()

school_type = []
students_per_school = []
school_budget = []
budget_per_student = []
school_average_maths = []
school_average_reading = []
school_passed_math = []
school_passed_read = []
school_passed_both = []

for index, school in enumerate(schools_list):
    # Check school name
    school_name = (complete_df["School Name"] == school)
    
    # Get the school type for each school
    school_type.append(
        complete_df.loc[school_name, "School Type"].unique()[0])

    # Get total students per school
    students_per_school.append(
        complete_df.loc[school_name, "Student ID"].count())
    
    # Get the total budget per school
    school_budget.append(
        complete_df.loc[school_name, "School Budget"].unique()[0])
    
    # Get the school budget per student
    budget_per_student.append(
        school_budget[index] / students_per_school[index])
    
    # Get average maths score per school
    school_average_maths.append(
        complete_df.loc[school_name, "Maths Score"].mean())
    
    # Get average reading score per school
    school_average_reading.append(
        complete_df.loc[school_name, "Reading Score"].mean())
    
    # Get percentage of students who passed maths
    passed_maths_conditions = ((school_name) & (complete_df["Maths Score"] >= passing_score))
    num_maths_per_school = complete_df.loc[passed_maths_conditions, "Student ID"].count()
    school_passed_math.append(100 * num_maths_per_school / students_per_school[index])
    
    # Get percentage of students who passed reading
    passed_reading_conditions = (school_name) & (complete_df["Reading Score"] >= passing_score)
    num_reading_per_school = complete_df.loc[passed_reading_conditions, "Student ID"].count()
    school_passed_read.append(100 * num_reading_per_school / students_per_school[index])
    
    # Get percentage overall passing
    passed_both_conditions = ((school_name)
                              & (complete_df["Maths Score"] >= passing_score)
                              & (complete_df["Reading Score"] >= 50))
    num_both_per_school = complete_df.loc[passed_both_conditions, "Student ID"].count()
    school_passed_both.append(100 * num_both_per_school / students_per_school[index])
    
# Create dictionary
school_summary_dict = {
    "School Type": school_type,
    "Total Students": students_per_school,
    "Total School Budget": school_budget,
    "Per Student Budget": budget_per_student,
    "Average Maths Score": school_average_maths,
    "Average Reading Score": school_average_reading,
    "% Passing Maths": school_passed_math,
    "% Passing Reading": school_passed_read,
    "% Overall Passing": school_passed_both}

# Create dataframe called per_school_summary
per_school_summary = pd.DataFrame(school_summary_dict, index=schools_list).sort_index()

# Format dataframe with correct units, use .style.format instead of .map() to prevent type conversion to object
per_school_summary.style.format({
    		"Total School Budget": "${0:,.2f}",
    		"Per Student Budget": "${0:,.2f}"})








# Sort the top five performing schools by % overall passing
top_schools = per_school_summary.sort_values(by="% Overall Passing", ascending=False).head()

# Format and display the dataframe with correct units
top_schools.style.format({
    		"Total School Budget": "${0:,.2f}",
    		"Per Student Budget": "${0:,.2f}"})








# Sort the top worst performing schools by % overall passing
bottom_schools = per_school_summary.sort_values(by="% Overall Passing", ascending=True).head()

# Format and display the dataframe with correct units
bottom_schools.style.format({
    		"Total School Budget": "${0:,.2f}",
    		"Per Student Budget": "${0:,.2f}"})








# Declare lists, to create pandas series data later
year9_maths = []
year10_maths = []
year11_maths = []
year12_maths = []

# Populate the list by looping over the school name and year level
for school in schools_list:
    for year in range(9, 13):
        conditions = (complete_df["School Name"] == school) & (complete_df["Year"] == year)
        if (year == 9):
            year9_maths.append(complete_df.loc[conditions, "Maths Score"].mean())
        elif (year == 10):
            year10_maths.append(complete_df.loc[conditions, "Maths Score"].mean())
        elif (year == 11):
            year11_maths.append(complete_df.loc[conditions, "Maths Score"].mean())
        elif (year == 12):
            year12_maths.append(complete_df.loc[conditions, "Maths Score"].mean())

# Create a pandas series for each year, grouping by school
y9_math = pd.Series(year9_maths, name="Year 9").groupby(schools_list).mean()
y10_math = pd.Series(year10_maths, name="Year 10").groupby(schools_list).mean()
y11_math = pd.Series(year11_maths, name="Year 11").groupby(schools_list).mean()
y12_math = pd.Series(year12_maths, name="Year 12").groupby(schools_list).mean()

# Combine the series into a dataframe
maths_scores_by_year = pd.concat([y9_math, y10_math, y11_math, y12_math], axis=1)

# Clean dataframe by formatting results to 2 decimal places
maths_scores_by_year["Year 9"] = maths_scores_by_year["Year 9"].map("{0:.2f}".format)
maths_scores_by_year["Year 10"] = maths_scores_by_year["Year 10"].map("{0:.2f}".format)
maths_scores_by_year["Year 11"] = maths_scores_by_year["Year 11"].map("{0:.2f}".format)
maths_scores_by_year["Year 12"] = maths_scores_by_year["Year 12"].map("{0:.2f}".format)

# Display the results
maths_scores_by_year








# Declare lists, to use as pandas series data later
year9_reading = []
year10_reading = []
year11_reading = []
year12_reading = []

# Populate the list by looping over the school name and year level
for school in schools_list:
    for year in range(9, 13):
        conditions = (complete_df["School Name"] == school) & (complete_df["Year"] == year)
        if (year == 9):
            year9_reading.append(complete_df.loc[conditions, "Reading Score"].mean())
        elif (year == 10):
            year10_reading.append(complete_df.loc[conditions, "Reading Score"].mean())
        elif (year == 11):
            year11_reading.append(complete_df.loc[conditions, "Reading Score"].mean())
        elif (year == 12):
            year12_reading.append(complete_df.loc[conditions, "Reading Score"].mean())

# Create a pandas series for each year, grouping by school
y9_read = pd.Series(year9_reading, name="Year 9").groupby(schools_list).mean()
y10_read = pd.Series(year10_reading, name="Year 10").groupby(schools_list).mean()
y11_read = pd.Series(year11_reading, name="Year 11").groupby(schools_list).mean()
y12_read = pd.Series(year12_reading, name="Year 12").groupby(schools_list).mean()

# Combine the series into a dataframe
reading_scores_by_year = pd.concat([y9_read, y10_read, y11_read, y12_read], axis=1)

# Clean dataframe by formatting results to 2 decimal places
reading_scores_by_year["Year 9"] = reading_scores_by_year["Year 9"].map("{0:.2f}".format)
reading_scores_by_year["Year 10"] = reading_scores_by_year["Year 10"].map("{0:.2f}".format)
reading_scores_by_year["Year 11"] = reading_scores_by_year["Year 11"].map("{0:.2f}".format)
reading_scores_by_year["Year 12"] = reading_scores_by_year["Year 12"].map("{0:.2f}".format)

# Display the results
reading_scores_by_year








# Provided code - to create bins and apply labels
spending_bins = [0, 585, 630, 645, 680]
spending_labels = ["<$585", "$585-630", "$630-645", "$645-680"]

# Create a dataframe with all the required columns
scores_df = per_school_summary.loc[:, ["Average Maths Score", "Average Reading Score", "% Passing Maths", "% Passing Reading", "% Overall Passing"]]

# Use pd.cut to bin "Per Student Budget"
binned_budget_df = pd.cut(per_school_summary["Per Student Budget"], bins=spending_bins, labels=spending_labels)

# Set binned column as the index and update index name
budget_scores_df = scores_df.set_index(binned_budget_df)
budget_scores_df.index.name = "Spending Ranges (Per Student Budget)"

# Use groupby to condense rows to the spending ranges
spending_summary = budget_scores_df.groupby(["Spending Ranges (Per Student Budget)"]).mean()

# Clean dataframe by formatting results to 2 decimal places
spending_summary["Average Maths Score"] = spending_summary["Average Maths Score"].map("{0:.2f}".format)
spending_summary["Average Reading Score"] = spending_summary["Average Reading Score"].map("{0:.2f}".format)
spending_summary["% Passing Maths"] = spending_summary["% Passing Maths"].map("{0:.2f}".format)
spending_summary["% Passing Reading"] = spending_summary["% Passing Reading"].map("{0:.2f}".format)
spending_summary["% Overall Passing"] = spending_summary["% Overall Passing"].map("{0:.2f}".format)

# Display the results
spending_summary








# Provided code - to create bins and apply labels
size_bins = [0, 1000, 2000, 5000]
size_labels = ["Small (<1000)", "Medium (1000-2000)", "Large (2000-5000)"]

# Use pd.cut to bin "Total Students"
binned_size_df = pd.cut(per_school_summary["Total Students"], bins=size_bins, labels=size_labels)

# Set binned column as the index and update index name
size_scores_df = scores_df.set_index(binned_size_df)
size_scores_df.index.name = "School Size"

# Use groupby to condense rows to the school size
size_summary = size_scores_df.groupby(["School Size"]).mean()

# Clean dataframe by formatting results to 2 decimal places
size_summary["Average Maths Score"] = size_summary["Average Maths Score"].map("{0:.2f}".format)
size_summary["Average Reading Score"] = size_summary["Average Reading Score"].map("{0:.2f}".format)
size_summary["% Passing Maths"] = size_summary["% Passing Maths"].map("{0:.2f}".format)
size_summary["% Passing Reading"] = size_summary["% Passing Reading"].map("{0:.2f}".format)
size_summary["% Overall Passing"] = size_summary["% Overall Passing"].map("{0:.2f}".format)

# Display the results
size_summary








# Create a dataframe with all the required columns
sliced_df = per_school_summary.loc[:, ["School Type", "Average Maths Score", "Average Reading Score", "% Passing Maths", "% Passing Reading", "% Overall Passing"]]

# Groupby the school type and display
type_summary = sliced_df.groupby(["School Type"]).mean()

# Clean dataframe by formatting results to 2 decimal places
type_summary["Average Maths Score"] = type_summary["Average Maths Score"].map("{0:.2f}".format)
type_summary["Average Reading Score"] = type_summary["Average Reading Score"].map("{0:.2f}".format)
type_summary["% Passing Maths"] = type_summary["% Passing Maths"].map("{0:.2f}".format)
type_summary["% Passing Reading"] = type_summary["% Passing Reading"].map("{0:.2f}".format)
type_summary["% Overall Passing"] = type_summary["% Overall Passing"].map("{0:.2f}".format)

# Display the results
type_summary



